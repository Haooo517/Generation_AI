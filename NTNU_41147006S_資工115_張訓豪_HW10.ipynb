{
  "cells": [
    {
      "cell_type": "markdown",
      "metadata": {
        "id": "view-in-github",
        "colab_type": "text"
      },
      "source": [
        "<a href=\"https://colab.research.google.com/github/Haooo517/Generation_AI/blob/main/NTNU_41147006S_%E8%B3%87%E5%B7%A5115_%E5%BC%B5%E8%A8%93%E8%B1%AA_HW10.ipynb\" target=\"_parent\"><img src=\"https://colab.research.google.com/assets/colab-badge.svg\" alt=\"Open In Colab\"/></a>"
      ]
    },
    {
      "cell_type": "markdown",
      "metadata": {
        "id": "I6Wwc3k30EQ7"
      },
      "source": [
        "### 製作屬於自己的圖片生成機器人"
      ]
    },
    {
      "cell_type": "markdown",
      "metadata": {
        "id": "6cLoYAfl0LXS"
      },
      "source": [
        "首先下載所有這次要用到的東西 <br>\n",
        "為了更清楚地顯示所有要用到的套件 <br>\n",
        "因此這邊把每一個都分開下載"
      ]
    },
    {
      "cell_type": "code",
      "execution_count": null,
      "metadata": {
        "id": "9oCwdOCFZBgp"
      },
      "outputs": [],
      "source": [
        "!pip install diffusers --upgrade\n",
        "!pip install transformers --upgrade\n",
        "!pip install accelerate --upgrade\n",
        "!pip install gradio --upgrade\n",
        "!pip install safetensors --upgrade\n",
        "!pip install huggingface_hub --upgrade"
      ]
    },
    {
      "cell_type": "markdown",
      "metadata": {
        "id": "_31ucDct7xD7"
      },
      "source": [
        "再來是要先登入 Hugging Face <br>\n",
        "這樣才能使用裡面提供的非開源模型 <br>\n",
        "所以也要用到 Google Colab 的密鑰來存 Token"
      ]
    },
    {
      "cell_type": "code",
      "execution_count": null,
      "metadata": {
        "id": "YOwyoyW18MKP"
      },
      "outputs": [],
      "source": [
        "from huggingface_hub import login\n",
        "from google.colab import userdata\n",
        "\n",
        "hf_token = userdata.get('HuggingFace')\n",
        "login(token=hf_token)"
      ]
    },
    {
      "cell_type": "markdown",
      "metadata": {
        "id": "PY92onRG8Rnx"
      },
      "source": [
        "再來把等等會用到的套件都 import 進來 <br>"
      ]
    },
    {
      "cell_type": "code",
      "execution_count": null,
      "metadata": {
        "colab": {
          "background_save": true
        },
        "id": "jTPNbrjA8N7N"
      },
      "outputs": [],
      "source": [
        "import torch\n",
        "import gradio as gr\n",
        "from diffusers import StableDiffusionXLPipeline"
      ]
    },
    {
      "cell_type": "markdown",
      "metadata": {
        "id": "Kvr_T6ew8koT"
      },
      "source": [
        "接著設定好模型 <br>\n",
        "並且讀到 Stable Diffusion 的 pipeline 裡面"
      ]
    },
    {
      "cell_type": "code",
      "execution_count": null,
      "metadata": {
        "colab": {
          "background_save": true
        },
        "id": "UCIOCOer8QHw"
      },
      "outputs": [],
      "source": [
        "pipe = StableDiffusionXLPipeline.from_pretrained(\n",
        "    \"stabilityai/stable-diffusion-xl-base-1.0\",\n",
        "    torch_dtype=torch.float16,\n",
        "    variant=\"fp16\",\n",
        "    use_safetensors=True\n",
        ").to(\"cuda\")"
      ]
    },
    {
      "cell_type": "markdown",
      "metadata": {
        "id": "BbTaTf7288DM"
      },
      "source": [
        "然後是設定這次的機器人 <br>\n",
        "這次我給他的主題是動漫風機器人 <br>\n",
        "他可以讓玩家自由選擇要怎麼"
      ]
    },
    {
      "cell_type": "code",
      "execution_count": null,
      "metadata": {
        "id": "FhNZXYhtZvsv"
      },
      "outputs": [],
      "source": [
        "STYLE_SUFFIXES = {\n",
        "    \"日式動漫風\": \", japanese anime style, vibrant colors, 2D illustration\",\n",
        "    \"美式卡通風\": \", cartoon style, flat shading, retro animation look\",\n",
        "    \"電玩像素風\": \", pixel art, 8-bit video game style, retro aesthetic\",\n",
        "    \"Q版動畫風\": \", chibi character, cute, large head, small body, colorful 2D style\",\n",
        "    \"迪士尼電影風\": \", disney style, 3D animation, cinematic lighting, expressive characters\"\n",
        "}\n",
        "\n",
        "# 🪄 修飾提示詞功能：根據風格補強 prompt\n",
        "def refine_prompt(user_prompt, style):\n",
        "    suffix = STYLE_SUFFIXES.get(style, \"\")\n",
        "    if not user_prompt.strip():\n",
        "        return \"Please enter a prompt first!\"\n",
        "    return user_prompt.strip() + suffix\n",
        "\n",
        "# 生成圖片\n",
        "def generate_image(prompt, style, guidance, steps, seed):\n",
        "    suffix = STYLE_SUFFIXES.get(style, \"\")\n",
        "    full_prompt = prompt + suffix if suffix not in prompt else prompt\n",
        "    generator = torch.Generator(\"cuda\").manual_seed(seed)\n",
        "    image = pipe(prompt=full_prompt,\n",
        "                 guidance_scale=guidance,\n",
        "                 num_inference_steps=steps,\n",
        "                 generator=generator).images[0]\n",
        "    return image\n",
        "\n",
        "# Gradio 中文介面\n",
        "with gr.Blocks(title=\"Cartoona - 多風格卡通圖片生成器\") as demo:\n",
        "    gr.Markdown(\"# 🎨 Cartoona - 多風格卡通圖片生成器\")\n",
        "    gr.Markdown(\"輸入提示詞 → 選擇風格 → 點「🪄 修飾提示詞」可自動補上風格描述 → 生成卡通風格圖片！\")\n",
        "\n",
        "    with gr.Row():\n",
        "        prompt = gr.Textbox(label=\"提示詞\", placeholder=\"請用英文輸入，例如：A cat walking in the city\")\n",
        "        style = gr.Dropdown(\n",
        "            label=\"選擇風格\",\n",
        "            choices=list(STYLE_SUFFIXES.keys()),\n",
        "            value=\"日式動漫風\"\n",
        "        )\n",
        "\n",
        "    with gr.Row():\n",
        "        refine_btn = gr.Button(\"🪄 修飾提示詞\")\n",
        "        refine_btn.click(fn=refine_prompt, inputs=[prompt, style], outputs=prompt)\n",
        "\n",
        "    with gr.Row():\n",
        "        guidance = gr.Slider(1, 20, value=7.5, label=\"🎨創意<--->切題🤖\")\n",
        "        steps = gr.Slider(10, 100, value=30, step=5, label=\"⏳效率<--->品質🖼️\")\n",
        "        seed = gr.Number(value=42, label=\"🎲隨機種子（相同隨機種子和輸入能產出相同結果）\")\n",
        "\n",
        "    submit = gr.Button(\"✨ 生成圖片\")\n",
        "    output = gr.Image(type=\"pil\", label=\"生成圖片\")\n",
        "\n",
        "    submit.click(fn=generate_image,\n",
        "                 inputs=[prompt, style, guidance, steps, seed],\n",
        "                 outputs=output)\n",
        "\n",
        "demo.launch(share=True, debug=True)"
      ]
    }
  ],
  "metadata": {
    "accelerator": "GPU",
    "colab": {
      "gpuType": "T4",
      "provenance": [],
      "include_colab_link": true
    },
    "kernelspec": {
      "display_name": "Python 3",
      "name": "python3"
    },
    "language_info": {
      "name": "python"
    }
  },
  "nbformat": 4,
  "nbformat_minor": 0
}